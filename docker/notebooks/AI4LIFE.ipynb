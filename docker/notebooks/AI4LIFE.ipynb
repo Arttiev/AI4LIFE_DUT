{
 "cells": [
  {
   "cell_type": "markdown",
   "metadata": {
    "id": "0xtcx1Y6tPtF"
   },
   "source": [
    "Detect and Count people in zone"
   ]
  },
  {
   "cell_type": "code",
   "execution_count": null,
   "metadata": {
    "colab": {
     "base_uri": "https://localhost:8080/"
    },
    "id": "SR9SI9R_0WOU",
    "outputId": "9bf41e4a-92a2-4fce-8d23-68f90e61f193",
    "tags": []
   },
   "outputs": [],
   "source": [
    "!nvidia-smi"
   ]
  },
  {
   "cell_type": "code",
   "execution_count": null,
   "metadata": {
    "colab": {
     "base_uri": "https://localhost:8080/"
    },
    "id": "je2tvd8Gu7YZ",
    "outputId": "c80cb523-ed93-41bb-b149-6ecc3b028899",
    "tags": []
   },
   "outputs": [],
   "source": [
    "!pip install torch\n",
    "import torch\n",
    "!nvcc --version\n",
    "TORCH_VERSION = \".\".join(torch.__version__.split(\".\")[:2])\n",
    "CUDA_VERSION = torch.__version__.split(\"+\")[-1]\n",
    "print(\"torch: \", TORCH_VERSION, \"; cuda: \", CUDA_VERSION)"
   ]
  },
  {
   "cell_type": "code",
   "execution_count": null,
   "metadata": {
    "colab": {
     "base_uri": "https://localhost:8080/"
    },
    "id": "6qsQaKLF0et7",
    "outputId": "567060d5-6602-4e52-a625-4cfa331dd38a",
    "tags": []
   },
   "outputs": [],
   "source": [
    "import os\n",
    "HOME = os.getcwd()\n",
    "print(HOME)"
   ]
  },
  {
   "cell_type": "markdown",
   "metadata": {
    "id": "Ern2bvVG04GW"
   },
   "source": [
    "## Install YOLOv8"
   ]
  },
  {
   "cell_type": "code",
   "execution_count": null,
   "metadata": {
    "colab": {
     "base_uri": "https://localhost:8080/"
    },
    "id": "8w4nepQU00rY",
    "outputId": "25b0d46f-f59a-4846-9a92-41fccee9a887",
    "tags": []
   },
   "outputs": [],
   "source": [
    "!pip install ultralytics\n",
    "\n",
    "from IPython import display\n",
    "display.clear_output()\n",
    "\n",
    "import ultralytics\n",
    "ultralytics.checks()"
   ]
  },
  {
   "cell_type": "markdown",
   "metadata": {
    "id": "2BY9KJHd1WER"
   },
   "source": [
    "## Install Supervision"
   ]
  },
  {
   "cell_type": "code",
   "execution_count": null,
   "metadata": {
    "colab": {
     "base_uri": "https://localhost:8080/"
    },
    "id": "0bx_iBer09rD",
    "outputId": "8e927589-a11f-4849-f9d9-da220590cbcb"
   },
   "outputs": [],
   "source": [
    "!pip install supervision==0.2.1\n",
    "\n",
    "\n",
    "from IPython import display\n",
    "display.clear_output()\n",
    "\n",
    "\n",
    "import supervision\n",
    "print(\"supervision.__version__:\", supervision.__version__)"
   ]
  },
  {
   "cell_type": "markdown",
   "metadata": {
    "id": "TF2CTMViQxyF"
   },
   "source": [
    "##DOWNLOAD VIDEO"
   ]
  },
  {
   "cell_type": "code",
   "execution_count": null,
   "metadata": {
    "colab": {
     "base_uri": "https://localhost:8080/"
    },
    "id": "3Rs5OMS7Q2ht",
    "outputId": "74594255-8991-4320-ce26-4c8bfc314a1e"
   },
   "outputs": [],
   "source": [
    "!gdown --id 1H1wCn-_IviEOEpoGgb99EbTCBiHAkgl7"
   ]
  },
  {
   "cell_type": "code",
   "execution_count": null,
   "metadata": {
    "id": "XTdouJU7Ro9V"
   },
   "outputs": [],
   "source": [
    "SOURCE_VIDEO_PATH = f\"{HOME}/input.mp4\"\n",
    "TARGET_VIDEO_PATH = f\"{HOME}/output/output.mp4\"\n",
    "MODEL_NAME = 'yolov8n.pt'"
   ]
  },
  {
   "cell_type": "code",
   "execution_count": null,
   "metadata": {
    "colab": {
     "base_uri": "https://localhost:8080/",
     "height": 66,
     "referenced_widgets": [
      "3228fcfc1a2a479ca09ff81a03873d1a",
      "b6617987841f4352a7506fb3880647e1",
      "7d6326b6d341423a8cc0cc24b11f2d74",
      "f9edcced7a824ebf8094b6ba70855b7f",
      "a21cd01d31d7457ebfed3b9b0b7bea12",
      "f9bc2e7c15c44da594d5a36bfdbb81bf",
      "edbe33e944d44a779392d8e768b2be0c",
      "9602025299af492ea2d519d574ed3f65",
      "16d8d00782874143a9e2e9b4958da813",
      "b5e56ef6905944d5ba366e5a923f78b8",
      "958538b40eee4cb8bcd313b719804b5b"
     ]
    },
    "id": "cQf-63soR8oY",
    "outputId": "0e277c3f-11cf-4529-8adb-20029bf504f0"
   },
   "outputs": [],
   "source": [
    "from ultralytics import YOLO\n",
    "\n",
    "model = YOLO(MODEL_NAME)"
   ]
  },
  {
   "cell_type": "code",
   "execution_count": null,
   "metadata": {
    "id": "AjRHJ8o6SI3I"
   },
   "outputs": [],
   "source": [
    "import supervision as sv"
   ]
  },
  {
   "cell_type": "code",
   "execution_count": null,
   "metadata": {
    "colab": {
     "base_uri": "https://localhost:8080/"
    },
    "id": "6a3VDtg_SC4Y",
    "outputId": "c6940f80-01db-4af1-c39a-7facb19a180b"
   },
   "outputs": [],
   "source": [
    "sv.VideoInfo.from_video_path(SOURCE_VIDEO_PATH)"
   ]
  },
  {
   "cell_type": "code",
   "execution_count": null,
   "metadata": {
    "id": "4KlUcZGbBUvH"
   },
   "outputs": [],
   "source": [
    "from typing import Optional, Tuple\n",
    "\n",
    "import cv2\n",
    "import numpy as np\n",
    "import supervision\n",
    "from supervision import Detections\n",
    "from supervision.detection.utils import generate_2d_mask\n",
    "from supervision.draw.color import Color\n",
    "from supervision.draw.utils import draw_polygon, draw_text\n",
    "from supervision.geometry.core import Position\n",
    "from supervision.geometry.utils import get_polygon_center\n",
    "# from google.colab.patches import cv2_imshow\n",
    "\n",
    "class PolygonZone:\n",
    "    def __init__(\n",
    "        self,\n",
    "        polygon: np.ndarray,\n",
    "        frame_resolution_wh: Tuple[int, int],\n",
    "        triggering_position: Position = Position.BOTTOM_CENTER,\n",
    "    ):\n",
    "        self.polygon = polygon\n",
    "        self.frame_resolution_wh = frame_resolution_wh\n",
    "        self.triggering_position = triggering_position\n",
    "        self.mask = generate_2d_mask(\n",
    "            polygon=polygon, resolution_wh=frame_resolution_wh)\n",
    "        self.current_count = 0\n",
    "\n",
    "    def trigger(self, detections, data) -> np.ndarray:\n",
    "        anchors = (\n",
    "            np.ceil(\n",
    "                detections.get_anchor_coordinates(\n",
    "                    anchor=self.triggering_position)\n",
    "            ).astype(int)\n",
    "            - 1\n",
    "        )\n",
    "        is_in_zone = self.mask[anchors[:, 1], anchors[:, 0]]\n",
    "        self.current_count = np.sum(is_in_zone)\n",
    "        data.append(self.current_count)\n",
    "        return is_in_zone.astype(bool)\n",
    "\n",
    "\n",
    "class PolygonZoneAnnotator:\n",
    "    def __init__(\n",
    "        self,\n",
    "        zone: PolygonZone,\n",
    "        color: Color,\n",
    "        thickness: int = 2,\n",
    "        text_color: Color = Color.black(),\n",
    "        text_scale: float = 0.5,\n",
    "        text_thickness: int = 1,\n",
    "        text_padding: int = 10,\n",
    "    ):\n",
    "        self.zone = zone\n",
    "        self.color = color\n",
    "        self.thickness = thickness\n",
    "        self.text_color = text_color\n",
    "        self.text_scale = text_scale\n",
    "        self.text_thickness = text_thickness\n",
    "        self.text_padding = text_padding\n",
    "        self.font = cv2.FONT_HERSHEY_SIMPLEX\n",
    "        self.center = get_polygon_center(polygon=zone.polygon)\n",
    "\n",
    "    def annotate(self, scene: np.ndarray, label: Optional[str] = None) -> np.ndarray:\n",
    "        annotated_frame = draw_polygon(\n",
    "            scene=scene,\n",
    "            polygon=self.zone.polygon,\n",
    "            color=self.color,\n",
    "            thickness=self.thickness,\n",
    "        )\n",
    "\n",
    "        annotated_frame = draw_text(\n",
    "            scene=annotated_frame,\n",
    "            text=str(self.zone.current_count) if label is None else label,\n",
    "            text_anchor=self.center,\n",
    "            background_color=self.color,\n",
    "            text_color=self.text_color,\n",
    "            text_scale=self.text_scale,\n",
    "            text_thickness=self.text_thickness,\n",
    "            text_padding=self.text_padding,\n",
    "            text_font=self.font,\n",
    "        )\n",
    "\n",
    "        return annotated_frame"
   ]
  },
  {
   "cell_type": "code",
   "execution_count": null,
   "metadata": {
    "colab": {
     "base_uri": "https://localhost:8080/",
     "height": 1000
    },
    "id": "vAiZM8Y3SKyh",
    "outputId": "c8ad3713-5d11-4f0e-cb08-8845ebd24055"
   },
   "outputs": [],
   "source": [
    "import numpy as np\n",
    "import supervision as sv\n",
    "import cv2\n",
    "\n",
    "from typing import Optional, Tuple\n",
    "\n",
    "import cv2\n",
    "import numpy as np\n",
    "import supervision\n",
    "from supervision import Detections\n",
    "from supervision.detection.utils import generate_2d_mask\n",
    "from supervision.draw.color import Color\n",
    "from supervision.draw.utils import draw_polygon, draw_text\n",
    "from supervision.geometry.core import Position\n",
    "from supervision.geometry.utils import get_polygon_center\n",
    "# from google.colab.patches import cv2_imshow\n",
    "\n",
    "class PolygonZone:\n",
    "    def __init__(\n",
    "        self,\n",
    "        polygon: np.ndarray,\n",
    "        frame_resolution_wh: Tuple[int, int],\n",
    "        triggering_position: Position = Position.BOTTOM_CENTER,\n",
    "    ):\n",
    "        self.polygon = polygon\n",
    "        self.frame_resolution_wh = frame_resolution_wh\n",
    "        self.triggering_position = triggering_position\n",
    "        self.mask = generate_2d_mask(\n",
    "            polygon=polygon, resolution_wh=frame_resolution_wh)\n",
    "        self.current_count = 0\n",
    "\n",
    "    def trigger(self, detections, data) -> np.ndarray:\n",
    "        anchors = (\n",
    "            np.ceil(\n",
    "                detections.get_anchor_coordinates(\n",
    "                    anchor=self.triggering_position)\n",
    "            ).astype(int)\n",
    "            - 1\n",
    "        )\n",
    "        is_in_zone = self.mask[anchors[:, 1], anchors[:, 0]]\n",
    "        self.current_count = np.sum(is_in_zone)\n",
    "        data.append(self.current_count)\n",
    "        return is_in_zone.astype(bool)\n",
    "\n",
    "\n",
    "class PolygonZoneAnnotator:\n",
    "    def __init__(\n",
    "        self,\n",
    "        zone: PolygonZone,\n",
    "        color: Color,\n",
    "        thickness: int = 2,\n",
    "        text_color: Color = Color.black(),\n",
    "        text_scale: float = 0.5,\n",
    "        text_thickness: int = 1,\n",
    "        text_padding: int = 10,\n",
    "    ):\n",
    "        self.zone = zone\n",
    "        self.color = color\n",
    "        self.thickness = thickness\n",
    "        self.text_color = text_color\n",
    "        self.text_scale = text_scale\n",
    "        self.text_thickness = text_thickness\n",
    "        self.text_padding = text_padding\n",
    "        self.font = cv2.FONT_HERSHEY_SIMPLEX\n",
    "        self.center = get_polygon_center(polygon=zone.polygon)\n",
    "\n",
    "    def annotate(self, scene: np.ndarray, label: Optional[str] = None) -> np.ndarray:\n",
    "        annotated_frame = draw_polygon(\n",
    "            scene=scene,\n",
    "            polygon=self.zone.polygon,\n",
    "            color=self.color,\n",
    "            thickness=self.thickness,\n",
    "        )\n",
    "\n",
    "        annotated_frame = draw_text(\n",
    "            scene=annotated_frame,\n",
    "            text=str(self.zone.current_count) if label is None else label,\n",
    "            text_anchor=self.center,\n",
    "            background_color=self.color,\n",
    "            text_color=self.text_color,\n",
    "            text_scale=self.text_scale,\n",
    "            text_thickness=self.text_thickness,\n",
    "            text_padding=self.text_padding,\n",
    "            text_font=self.font,\n",
    "        )\n",
    "\n",
    "        return annotated_frame\n",
    "\n",
    "\n",
    "\n",
    "data = [0, 0]\n",
    "res = 0\n",
    "\n",
    "\n",
    "def process_frame(frame: np.ndarray, _) -> np.ndarray:\n",
    "    # 3 detect\n",
    "    results = model(frame, imgsz=1280)[0]\n",
    "    detections = sv.Detections.from_yolov8(results)\n",
    "    detections = detections[(detections.class_id == 0)\n",
    "                            & (detections.confidence > 0.4)]\n",
    "    zone.trigger(detections)\n",
    "\n",
    "    # 4 annotate\n",
    "    box_annotator = sv.BoxAnnotator(\n",
    "        thickness=4, text_thickness=4, text_scale=2)\n",
    "    labels = [f\"{model.names[class_id]} {confidence:0.2f}\" for _,\n",
    "              confidence, class_id, _ in detections]\n",
    "    frame = box_annotator.annotate(\n",
    "        scene=frame, detections=detections, labels=labels)\n",
    "    frame = zone_annotator.annotate(scene=frame)\n",
    "\n",
    "    return frame\n",
    "\n",
    "\n",
    "# 1 initiate polygon zone\n",
    "polygon = np.array([\n",
    "    [961, 1078],\n",
    "    [763, 550],\n",
    "    [1502, 254],\n",
    "    [1914, 260],\n",
    "    [1920, 1080]\n",
    "])\n",
    "video_info = sv.VideoInfo.from_video_path(SOURCE_VIDEO_PATH)\n",
    "zone = sv.PolygonZone(\n",
    "    polygon=polygon, frame_resolution_wh=video_info.resolution_wh)\n",
    "\n",
    "# 2 initiate annotators\n",
    "box_annotator = sv.BoxAnnotator(thickness=4, text_thickness=4, text_scale=2)\n",
    "zone_annotator = sv.PolygonZoneAnnotator(\n",
    "    zone=zone, color=sv.Color.white(), thickness=6, text_thickness=6, text_scale=4)\n",
    "\n",
    "\n",
    "# Xuat ket qua ra file\n",
    "sv.process_video(source_path=SOURCE_VIDEO_PATH,\n",
    "                 target_path=TARGET_VIDEO_PATH, callback=process_frame)\n",
    "display.clear_output()\n",
    "\n",
    "\n",
    "# # Xuat ra man hinh\n",
    "# # extract video frame\n",
    "# generator = sv.get_video_frames_generator(SOURCE_VIDEO_PATH)\n",
    "# iterator = iter(generator)\n",
    "# frame = next(iterator)\n",
    "\n",
    "# # matrix_rotate = np.array([[0.9397, 0.342], [-0.342, 0.9397]])\n",
    "# temp = [0, 0]\n",
    "# i = 0\n",
    "# sumPerson = 0\n",
    "# currentLen = 0\n",
    "# for frame in iterator:\n",
    "\n",
    "#     # frame = np.dot(frame, matrix_rotate)\n",
    "#     current = process_frame(frame, 1)\n",
    "\n",
    "#     if i < 10:\n",
    "#         sumPerson += data[-1]\n",
    "#         i += 1\n",
    "#     else:\n",
    "#         soNguoiTrong10Frame = sumPerson/10\n",
    "#         if soNguoiTrong10Frame-soNguoiTrong10Frame//1 < 0.5:\n",
    "#             temp.append(soNguoiTrong10Frame//1)\n",
    "#         else:\n",
    "#             temp.append(soNguoiTrong10Frame//1+1)\n",
    "#         currentLen += 1\n",
    "#         sumPerson = 0\n",
    "#         i = 0\n",
    "\n",
    "#         print(temp)\n",
    "#         currentt = temp[-1]\n",
    "#         previous = temp[-2]\n",
    "#         if currentt < previous:\n",
    "#             res = max(res, previous)\n",
    "#         else:\n",
    "#             res += currentt-previous\n",
    "#         print(res)\n",
    "#     cv2_imshow(current)\n",
    "#     if cv2.waitKey(1) & 0xFF == ord('q'):\n",
    "#         break\n",
    "\n",
    "# cv2.destroyAllWindows()\n",
    "\n"
   ]
  }
 ],
 "metadata": {
  "colab": {
   "provenance": []
  },
  "kernelspec": {
   "display_name": "Python 3",
   "language": "python",
   "name": "python3"
  },
  "language_info": {
   "codemirror_mode": {
    "name": "ipython",
    "version": 3
   },
   "file_extension": ".py",
   "mimetype": "text/x-python",
   "name": "python",
   "nbconvert_exporter": "python",
   "pygments_lexer": "ipython3",
   "version": "3.10.6"
  },
  "vscode": {
   "interpreter": {
    "hash": "916dbcbb3f70747c44a77c7bcd40155683ae19c65e1c03b4aa3499c5328201f1"
   }
  },
  "widgets": {
   "application/vnd.jupyter.widget-state+json": {
    "16d8d00782874143a9e2e9b4958da813": {
     "model_module": "@jupyter-widgets/controls",
     "model_module_version": "1.5.0",
     "model_name": "ProgressStyleModel",
     "state": {
      "_model_module": "@jupyter-widgets/controls",
      "_model_module_version": "1.5.0",
      "_model_name": "ProgressStyleModel",
      "_view_count": null,
      "_view_module": "@jupyter-widgets/base",
      "_view_module_version": "1.2.0",
      "_view_name": "StyleView",
      "bar_color": null,
      "description_width": ""
     }
    },
    "3228fcfc1a2a479ca09ff81a03873d1a": {
     "model_module": "@jupyter-widgets/controls",
     "model_module_version": "1.5.0",
     "model_name": "HBoxModel",
     "state": {
      "_dom_classes": [],
      "_model_module": "@jupyter-widgets/controls",
      "_model_module_version": "1.5.0",
      "_model_name": "HBoxModel",
      "_view_count": null,
      "_view_module": "@jupyter-widgets/controls",
      "_view_module_version": "1.5.0",
      "_view_name": "HBoxView",
      "box_style": "",
      "children": [
       "IPY_MODEL_b6617987841f4352a7506fb3880647e1",
       "IPY_MODEL_7d6326b6d341423a8cc0cc24b11f2d74",
       "IPY_MODEL_f9edcced7a824ebf8094b6ba70855b7f"
      ],
      "layout": "IPY_MODEL_a21cd01d31d7457ebfed3b9b0b7bea12"
     }
    },
    "7d6326b6d341423a8cc0cc24b11f2d74": {
     "model_module": "@jupyter-widgets/controls",
     "model_module_version": "1.5.0",
     "model_name": "FloatProgressModel",
     "state": {
      "_dom_classes": [],
      "_model_module": "@jupyter-widgets/controls",
      "_model_module_version": "1.5.0",
      "_model_name": "FloatProgressModel",
      "_view_count": null,
      "_view_module": "@jupyter-widgets/controls",
      "_view_module_version": "1.5.0",
      "_view_name": "ProgressView",
      "bar_style": "success",
      "description": "",
      "description_tooltip": null,
      "layout": "IPY_MODEL_9602025299af492ea2d519d574ed3f65",
      "max": 6534387,
      "min": 0,
      "orientation": "horizontal",
      "style": "IPY_MODEL_16d8d00782874143a9e2e9b4958da813",
      "value": 6534387
     }
    },
    "958538b40eee4cb8bcd313b719804b5b": {
     "model_module": "@jupyter-widgets/controls",
     "model_module_version": "1.5.0",
     "model_name": "DescriptionStyleModel",
     "state": {
      "_model_module": "@jupyter-widgets/controls",
      "_model_module_version": "1.5.0",
      "_model_name": "DescriptionStyleModel",
      "_view_count": null,
      "_view_module": "@jupyter-widgets/base",
      "_view_module_version": "1.2.0",
      "_view_name": "StyleView",
      "description_width": ""
     }
    },
    "9602025299af492ea2d519d574ed3f65": {
     "model_module": "@jupyter-widgets/base",
     "model_module_version": "1.2.0",
     "model_name": "LayoutModel",
     "state": {
      "_model_module": "@jupyter-widgets/base",
      "_model_module_version": "1.2.0",
      "_model_name": "LayoutModel",
      "_view_count": null,
      "_view_module": "@jupyter-widgets/base",
      "_view_module_version": "1.2.0",
      "_view_name": "LayoutView",
      "align_content": null,
      "align_items": null,
      "align_self": null,
      "border": null,
      "bottom": null,
      "display": null,
      "flex": null,
      "flex_flow": null,
      "grid_area": null,
      "grid_auto_columns": null,
      "grid_auto_flow": null,
      "grid_auto_rows": null,
      "grid_column": null,
      "grid_gap": null,
      "grid_row": null,
      "grid_template_areas": null,
      "grid_template_columns": null,
      "grid_template_rows": null,
      "height": null,
      "justify_content": null,
      "justify_items": null,
      "left": null,
      "margin": null,
      "max_height": null,
      "max_width": null,
      "min_height": null,
      "min_width": null,
      "object_fit": null,
      "object_position": null,
      "order": null,
      "overflow": null,
      "overflow_x": null,
      "overflow_y": null,
      "padding": null,
      "right": null,
      "top": null,
      "visibility": null,
      "width": null
     }
    },
    "a21cd01d31d7457ebfed3b9b0b7bea12": {
     "model_module": "@jupyter-widgets/base",
     "model_module_version": "1.2.0",
     "model_name": "LayoutModel",
     "state": {
      "_model_module": "@jupyter-widgets/base",
      "_model_module_version": "1.2.0",
      "_model_name": "LayoutModel",
      "_view_count": null,
      "_view_module": "@jupyter-widgets/base",
      "_view_module_version": "1.2.0",
      "_view_name": "LayoutView",
      "align_content": null,
      "align_items": null,
      "align_self": null,
      "border": null,
      "bottom": null,
      "display": null,
      "flex": null,
      "flex_flow": null,
      "grid_area": null,
      "grid_auto_columns": null,
      "grid_auto_flow": null,
      "grid_auto_rows": null,
      "grid_column": null,
      "grid_gap": null,
      "grid_row": null,
      "grid_template_areas": null,
      "grid_template_columns": null,
      "grid_template_rows": null,
      "height": null,
      "justify_content": null,
      "justify_items": null,
      "left": null,
      "margin": null,
      "max_height": null,
      "max_width": null,
      "min_height": null,
      "min_width": null,
      "object_fit": null,
      "object_position": null,
      "order": null,
      "overflow": null,
      "overflow_x": null,
      "overflow_y": null,
      "padding": null,
      "right": null,
      "top": null,
      "visibility": null,
      "width": null
     }
    },
    "b5e56ef6905944d5ba366e5a923f78b8": {
     "model_module": "@jupyter-widgets/base",
     "model_module_version": "1.2.0",
     "model_name": "LayoutModel",
     "state": {
      "_model_module": "@jupyter-widgets/base",
      "_model_module_version": "1.2.0",
      "_model_name": "LayoutModel",
      "_view_count": null,
      "_view_module": "@jupyter-widgets/base",
      "_view_module_version": "1.2.0",
      "_view_name": "LayoutView",
      "align_content": null,
      "align_items": null,
      "align_self": null,
      "border": null,
      "bottom": null,
      "display": null,
      "flex": null,
      "flex_flow": null,
      "grid_area": null,
      "grid_auto_columns": null,
      "grid_auto_flow": null,
      "grid_auto_rows": null,
      "grid_column": null,
      "grid_gap": null,
      "grid_row": null,
      "grid_template_areas": null,
      "grid_template_columns": null,
      "grid_template_rows": null,
      "height": null,
      "justify_content": null,
      "justify_items": null,
      "left": null,
      "margin": null,
      "max_height": null,
      "max_width": null,
      "min_height": null,
      "min_width": null,
      "object_fit": null,
      "object_position": null,
      "order": null,
      "overflow": null,
      "overflow_x": null,
      "overflow_y": null,
      "padding": null,
      "right": null,
      "top": null,
      "visibility": null,
      "width": null
     }
    },
    "b6617987841f4352a7506fb3880647e1": {
     "model_module": "@jupyter-widgets/controls",
     "model_module_version": "1.5.0",
     "model_name": "HTMLModel",
     "state": {
      "_dom_classes": [],
      "_model_module": "@jupyter-widgets/controls",
      "_model_module_version": "1.5.0",
      "_model_name": "HTMLModel",
      "_view_count": null,
      "_view_module": "@jupyter-widgets/controls",
      "_view_module_version": "1.5.0",
      "_view_name": "HTMLView",
      "description": "",
      "description_tooltip": null,
      "layout": "IPY_MODEL_f9bc2e7c15c44da594d5a36bfdbb81bf",
      "placeholder": "​",
      "style": "IPY_MODEL_edbe33e944d44a779392d8e768b2be0c",
      "value": "100%"
     }
    },
    "edbe33e944d44a779392d8e768b2be0c": {
     "model_module": "@jupyter-widgets/controls",
     "model_module_version": "1.5.0",
     "model_name": "DescriptionStyleModel",
     "state": {
      "_model_module": "@jupyter-widgets/controls",
      "_model_module_version": "1.5.0",
      "_model_name": "DescriptionStyleModel",
      "_view_count": null,
      "_view_module": "@jupyter-widgets/base",
      "_view_module_version": "1.2.0",
      "_view_name": "StyleView",
      "description_width": ""
     }
    },
    "f9bc2e7c15c44da594d5a36bfdbb81bf": {
     "model_module": "@jupyter-widgets/base",
     "model_module_version": "1.2.0",
     "model_name": "LayoutModel",
     "state": {
      "_model_module": "@jupyter-widgets/base",
      "_model_module_version": "1.2.0",
      "_model_name": "LayoutModel",
      "_view_count": null,
      "_view_module": "@jupyter-widgets/base",
      "_view_module_version": "1.2.0",
      "_view_name": "LayoutView",
      "align_content": null,
      "align_items": null,
      "align_self": null,
      "border": null,
      "bottom": null,
      "display": null,
      "flex": null,
      "flex_flow": null,
      "grid_area": null,
      "grid_auto_columns": null,
      "grid_auto_flow": null,
      "grid_auto_rows": null,
      "grid_column": null,
      "grid_gap": null,
      "grid_row": null,
      "grid_template_areas": null,
      "grid_template_columns": null,
      "grid_template_rows": null,
      "height": null,
      "justify_content": null,
      "justify_items": null,
      "left": null,
      "margin": null,
      "max_height": null,
      "max_width": null,
      "min_height": null,
      "min_width": null,
      "object_fit": null,
      "object_position": null,
      "order": null,
      "overflow": null,
      "overflow_x": null,
      "overflow_y": null,
      "padding": null,
      "right": null,
      "top": null,
      "visibility": null,
      "width": null
     }
    },
    "f9edcced7a824ebf8094b6ba70855b7f": {
     "model_module": "@jupyter-widgets/controls",
     "model_module_version": "1.5.0",
     "model_name": "HTMLModel",
     "state": {
      "_dom_classes": [],
      "_model_module": "@jupyter-widgets/controls",
      "_model_module_version": "1.5.0",
      "_model_name": "HTMLModel",
      "_view_count": null,
      "_view_module": "@jupyter-widgets/controls",
      "_view_module_version": "1.5.0",
      "_view_name": "HTMLView",
      "description": "",
      "description_tooltip": null,
      "layout": "IPY_MODEL_b5e56ef6905944d5ba366e5a923f78b8",
      "placeholder": "​",
      "style": "IPY_MODEL_958538b40eee4cb8bcd313b719804b5b",
      "value": " 6.23M/6.23M [00:00&lt;00:00, 65.1MB/s]"
     }
    }
   }
  }
 },
 "nbformat": 4,
 "nbformat_minor": 4
}
